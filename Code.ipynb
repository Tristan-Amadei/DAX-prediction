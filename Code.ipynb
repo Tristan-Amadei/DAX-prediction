{
 "cells": [
  {
   "cell_type": "code",
   "execution_count": 49,
   "id": "configured-storage",
   "metadata": {},
   "outputs": [],
   "source": [
    "%matplotlib inline\n",
    "import numpy as np\n",
    "import matplotlib\n",
    "import matplotlib.pyplot as plt\n",
    "import time\n",
    "import pandas as pd\n",
    "import plotly.graph_objects as go"
   ]
  },
  {
   "cell_type": "code",
   "execution_count": 7,
   "id": "binary-excuse",
   "metadata": {},
   "outputs": [],
   "source": [
    "dataFrame = pd.read_table(r\"./Data/FDAXH22-EUREX.scid_BarData.txt\", sep = \", \", engine = 'python')"
   ]
  },
  {
   "cell_type": "code",
   "execution_count": 8,
   "id": "rotary-credits",
   "metadata": {},
   "outputs": [],
   "source": [
    "Date, Time, Open, High, Low = dataFrame.Date, dataFrame.Time, dataFrame.Open, dataFrame.High, dataFrame.Low\n",
    "Last, Volume, NumberOfTrades =  dataFrame.Last, dataFrame.Volume, dataFrame.NumberOfTrades\n",
    "BidVolume, AskVolume = dataFrame.BidVolume, dataFrame.AskVolume"
   ]
  },
  {
   "cell_type": "code",
   "execution_count": 9,
   "id": "informational-potter",
   "metadata": {},
   "outputs": [],
   "source": [
    "Spread = [High[i]-Low[i] for i in range(len(High))]\n",
    "Delta = [AskVolume[i] - BidVolume[i] for i in range(len(BidVolume))]\n",
    "\n",
    "CumulativeDelta = [Delta[0]]\n",
    "for i in range(1, len(Delta)):\n",
    "    nouvelle_valeur = CumulativeDelta[-1] + Delta[i]\n",
    "    CumulativeDelta.append(nouvelle_valeur)"
   ]
  },
  {
   "cell_type": "code",
   "execution_count": 20,
   "id": "requested-edwards",
   "metadata": {},
   "outputs": [],
   "source": [
    "def moyenne_mobile(k,n):\n",
    "    if k<23:\n",
    "        sum_= 0\n",
    "        for i in range(k+1):\n",
    "            sum_ += Last[i]**n\n",
    "        return sum_/(k+1)\n",
    "    else:\n",
    "        sum_ = 0\n",
    "        for i in range(k, k-23, -1):\n",
    "            sum_ += Last[i]**n\n",
    "        return sum_/23\n",
    "    \n",
    "def variance_mobile(k):\n",
    "    return moyenne_mobile(k,2)-(moyenne_mobile(k,1))**2"
   ]
  },
  {
   "cell_type": "code",
   "execution_count": 21,
   "id": "9fcc7f76",
   "metadata": {},
   "outputs": [],
   "source": [
    "def variance_mobile(k):\n",
    "    return moyenne_mobile(k,2)-(moyenne_mobile(k,1))**2"
   ]
  },
  {
   "cell_type": "code",
   "execution_count": 22,
   "id": "6b214987",
   "metadata": {},
   "outputs": [],
   "source": [
    "Moy_mobile = [moyenne_mobile(k,1) for k in range(len(Last))]"
   ]
  },
  {
   "cell_type": "code",
   "execution_count": 23,
   "id": "agricultural-laundry",
   "metadata": {},
   "outputs": [],
   "source": [
    "Var_mobile = [variance_mobile(k) for k in range(len(Last))]"
   ]
  },
  {
   "cell_type": "code",
   "execution_count": 24,
   "id": "43f6aa94",
   "metadata": {},
   "outputs": [],
   "source": [
    "z_score = []\n",
    "def z_scoring():\n",
    "    for k in range(len(Last)):\n",
    "        if Var_mobile[k] != 0:\n",
    "            z_score.append(Last[k] - Moy_mobile[k]/Var_mobile[k])\n",
    "        else:\n",
    "            z_score.append(0)"
   ]
  },
  {
   "cell_type": "code",
   "execution_count": 25,
   "id": "6c5be00e",
   "metadata": {},
   "outputs": [],
   "source": [
    "z_scoring()"
   ]
  },
  {
   "cell_type": "code",
   "execution_count": 10,
   "id": "respected-military",
   "metadata": {},
   "outputs": [],
   "source": [
    "import datetime\n",
    "from datetime import datetime\n",
    "\n",
    "jours_semaine = [\"Lundi\", \"Mardi\", \"Mercredi\", \"Jeudi\", \"Vendredi\", \"Samedi\", \"Dimanche\"]\n",
    "weekdays = [jours_semaine[datetime.strptime(dataFrame.Date[i][2:], '%y/%m/%d').weekday()] for i in range(len(dataFrame))]"
   ]
  },
  {
   "cell_type": "code",
   "execution_count": 27,
   "id": "collect-count",
   "metadata": {},
   "outputs": [],
   "source": [
    "file = open(r\"./Data/FDAXH22-Full.txt\", \"w+\")\n",
    "file.write(\"Date, Time, Open, High, Low, Last, Volume, NumberOfTrades, BidVolume, AskVolume, Delta, Cumulative Delta, Spread, Moyenne Mobile, Z Score, Jour\\n\")\n",
    "for i in range(len(Date)):\n",
    "    line = str(Date[i]) + \", \" + str(Time[i]) + \", \" + str(Open[i]) + \", \" + str(High[i]) + \", \" + str(Low[i]) + \", \" \n",
    "    line+= str(Last[i]) + \", \" + str(Volume[i]) + \", \" + str(NumberOfTrades[i]) + \", \" + str(BidVolume[i]) + \", \" \n",
    "    line+= str(AskVolume[i]) + \", \" + str(Delta[i]) + \", \" + str(CumulativeDelta[i]) +\", \" + str(Spread[i]) + \", \" \n",
    "    line+= str(Moy_mobile[i]) + \", \" + str(z_score[i]) + \", \" + str(weekdays[i]) + \"\\n\"\n",
    "    file.write(line)\n",
    "    \n",
    "file.close()"
   ]
  },
  {
   "cell_type": "code",
   "execution_count": null,
   "id": "communist-ensemble",
   "metadata": {},
   "outputs": [],
   "source": [
    "#on insere les nouvelles colonnes dans le dataFrame \n",
    "\n",
    "dataFrame.insert(loc=len(dataFrame.columns), column='Delta', value=pd.Series(Delta))\n",
    "dataFrame.insert(loc=len(dataFrame.columns), column='Cumulative Delta', value=pd.Series(CumulativeDelta))\n",
    "dataFrame.insert(loc=len(dataFrame.columns), column='Spread', value=pd.Series(Spread))\n",
    "dataFrame.insert(loc=len(dataFrame.columns), column='Moyenne Mobile (23)', value=pd.Series(Moy_mobile))\n",
    "dataFrame.insert(loc=len(dataFrame.columns), column='Jour', value=pd.Series(weekdays))"
   ]
  },
  {
   "cell_type": "markdown",
   "id": "necessary-poison",
   "metadata": {},
   "source": [
    "## Création d'un DataFrame journalier"
   ]
  },
  {
   "cell_type": "code",
   "execution_count": 26,
   "id": "driven-panic",
   "metadata": {},
   "outputs": [],
   "source": [
    "# requete SQL pour recuperer toutes les entrees ou l'heure est egale à 8h du matin\n",
    "# permet de recuperer la liste des jours, et la liste des prix d'ouverture journaliers\n",
    "daily_morning = dataFrame.loc[dataFrame['Time'] == '08:00:00']\n",
    "days = list(daily_morning.Date)\n",
    "daily_open = list(daily_morning.Open)"
   ]
  },
  {
   "cell_type": "code",
   "execution_count": 27,
   "id": "formed-bracket",
   "metadata": {
    "scrolled": true
   },
   "outputs": [],
   "source": [
    "# pour chaque jour, on fait une requete pour selectionner la ligne ou l'heure la derniere de la journee\n",
    "# permet de recuperer la liste des fermtures journalieres\n",
    "\n",
    "daily_last = []\n",
    "for i in range(len(days)-1): #le dernier jour ne s'arrete pas a 22h, d'ou le -1 dans le range\n",
    "    df_last_minute = dataFrame.loc[(dataFrame.Time == '22:05:00') & (dataFrame.Date == days[i])]\n",
    "    if len(df_last_minute) == 0:\n",
    "        df_last_minute = dataFrame.loc[(dataFrame.Time == '22:00:00') & (dataFrame.Date == days[i])]\n",
    "    if len(df_last_minute) == 0:\n",
    "        df_last_minute = dataFrame.loc[(dataFrame.Time == '21:55:00') & (dataFrame.Date == days[i])]\n",
    "    if len(df_last_minute) == 0:\n",
    "        df_last_minute = dataFrame.loc[(dataFrame.Time == '21:50:00') & (dataFrame.Date == days[i])]\n",
    "    cur_last = list(df_last_minute.Last)\n",
    "    daily_last.append(int(cur_last[0]))\n",
    "    \n",
    "daily_last.append(Last[len(Last)-1]) #le dernier jour ne s'arrete pas a 22h"
   ]
  },
  {
   "cell_type": "code",
   "execution_count": 28,
   "id": "heard-infrared",
   "metadata": {},
   "outputs": [],
   "source": [
    "# on fait des requetes pour recuperer toutes les donnees d'une journee\n",
    "# cela permet de calculer le high de la journee, le low de la journee et le volume total de la journee\n",
    "# on repete cela pour tous les jours\n",
    "# relativement long en temps d'exécution mais permet de s'assurer de prendre toutes les entrees d'une journee\n",
    "# par ex, si une journee se termine a 22h05 et non 22h, cette technique permet de s'assurer de bien prendre toutes les tranches\n",
    "\n",
    "daily_high = []\n",
    "daily_low = []\n",
    "daily_volume = []\n",
    "\n",
    "for day in days:\n",
    "    df_day = dataFrame.loc[dataFrame.Date == day]\n",
    "    \n",
    "    volume_journalier = np.sum(list(df_day.Volume))\n",
    "    daily_volume.append(volume_journalier)\n",
    "    \n",
    "    high_journalier = max(list(df_day.High))\n",
    "    daily_high.append(high_journalier)\n",
    "    \n",
    "    low_journalier = min(list(df_day.Low))\n",
    "    daily_low.append(low_journalier)"
   ]
  },
  {
   "cell_type": "code",
   "execution_count": 29,
   "id": "brave-stanford",
   "metadata": {},
   "outputs": [],
   "source": [
    "dataFrame_daily = pd.DataFrame()\n",
    "dataFrame_daily.insert(loc = 0, column='Date', value=pd.Series(days))\n",
    "dataFrame_daily.insert(loc = 1, column='Open', value=pd.Series(daily_open))\n",
    "dataFrame_daily.insert(loc = 2, column='High', value=pd.Series(daily_high))\n",
    "dataFrame_daily.insert(loc = 3, column='Low', value=pd.Series(daily_low))\n",
    "dataFrame_daily.insert(loc = 4, column='Close', value=pd.Series(daily_last))\n",
    "dataFrame_daily.insert(loc = 5, column='Volume', value=pd.Series(daily_volume))"
   ]
  },
  {
   "cell_type": "markdown",
   "id": "587c4759",
   "metadata": {},
   "source": [
    "## Pourcentage de High/Low matinal égal au High/Low journalier"
   ]
  },
  {
   "cell_type": "code",
   "execution_count": 30,
   "id": "66dcab25",
   "metadata": {},
   "outputs": [],
   "source": [
    "opening_spread_max = []\n",
    "opening_spread_min = []\n",
    "times_matin = ['08:00:00', '08:05:00', '08:10:00', '08:15:00', '08:20:00', '08:25:00', '08:30:00', '08:35:00', '08:40:00', '08:45:00', '08:50:00', '08:55:00']\n",
    "def opening_spread():\n",
    "    for day in days:\n",
    "        maxi = int(dataFrame.loc[(dataFrame.Time == times_matin[0]) & (dataFrame.Date == day)].High) \n",
    "        mini = int(dataFrame.loc[(dataFrame.Time == times_matin[0]) & (dataFrame.Date == day)].Low)\n",
    "        for i in range(1,12):\n",
    "            df_minute = dataFrame.loc[(dataFrame.Time == times_matin[i]) & (dataFrame.Date == day)]\n",
    "            if len(df_minute) !=0 :\n",
    "                m = int(df_minute.High)\n",
    "                l = int(df_minute.Low)\n",
    "                if m > maxi: \n",
    "                    maxi = m\n",
    "                if l < mini:\n",
    "                    mini = l\n",
    "        opening_spread_max.append(maxi)\n",
    "        opening_spread_min.append(mini)"
   ]
  },
  {
   "cell_type": "code",
   "execution_count": 31,
   "id": "71324895",
   "metadata": {},
   "outputs": [],
   "source": [
    "def correspondances_opening_day_spread2():\n",
    "    jours_max_correspondants = []\n",
    "    jours_min_correspondants = []\n",
    "    \n",
    "    nb_jours = 0\n",
    "    for day in days:\n",
    "        dataFrame_day = dataFrame_daily.loc[dataFrame_daily.Date == day]\n",
    "        if abs(int(dataFrame_day.High) - opening_spread_max[nb_jours]) <= 15:\n",
    "            jours_max_correspondants.append(day)\n",
    "        if abs(int(dataFrame_day.Low) - opening_spread_min[nb_jours]) <= 15:\n",
    "            jours_min_correspondants.append(day)\n",
    "        nb_jours += 1\n",
    "    return jours_max_correspondants, jours_min_correspondants"
   ]
  },
  {
   "cell_type": "code",
   "execution_count": 32,
   "id": "aed344b2",
   "metadata": {},
   "outputs": [],
   "source": [
    "opening_spread()"
   ]
  },
  {
   "cell_type": "code",
   "execution_count": 33,
   "id": "26fa8bbe",
   "metadata": {},
   "outputs": [
    {
     "name": "stdout",
     "output_type": "stream",
     "text": [
      "Nombre de jours où le max entre 8h et 9h est le max de la journée : 735\n",
      "Nombre de jours où le min entre 8h et 9h est le min de la journée : 685\n",
      "La combinaison de ces deux cas représente 0.6187363834422658 % du temps\n"
     ]
    }
   ],
   "source": [
    "jours_max_correspondants, jours_min_correspondants = correspondances_opening_day_spread2()\n",
    "print(\"Nombre de jours où le max entre 8h et 9h est le max de la journée :\", len(jours_max_correspondants))\n",
    "print(\"Nombre de jours où le min entre 8h et 9h est le min de la journée :\", len(jours_min_correspondants))\n",
    "print(\"La combinaison de ces deux cas représente\", (len(jours_max_correspondants) + len(jours_min_correspondants))/len(days), \"% du temps\")"
   ]
  },
  {
   "cell_type": "code",
   "execution_count": 35,
   "id": "confused-marine",
   "metadata": {},
   "outputs": [],
   "source": [
    "times_morning = ['08:00:00', '08:05:00', '08:10:00', '08:15:00', '08:20:00', '08:25:00', '08:30:00', \n",
    "                '08:35:00', '08:40:00', '08:45:00', '08:50:00', '08:55:00']\n",
    "daily_morning_last = []\n",
    "for i in range(len(days)): \n",
    "    k = len(times_morning) - 1\n",
    "    while len(dataFrame.loc[(dataFrame.Time == times_morning[k]) & (dataFrame.Date == days[i])]) <= 0:\n",
    "        k-=1\n",
    "    df_last_minute = dataFrame.loc[(dataFrame.Time == times_morning[k]) & (dataFrame.Date == days[i])]\n",
    "    cur_last = list(df_last_minute.Last)\n",
    "    daily_morning_last.append(int(cur_last[0]))"
   ]
  },
  {
   "cell_type": "code",
   "execution_count": 41,
   "id": "toxic-clause",
   "metadata": {},
   "outputs": [],
   "source": [
    "import datetime\n",
    "from datetime import datetime\n",
    "\n",
    "jours_semaine = [\"Lundi\", \"Mardi\", \"Mercredi\", \"Jeudi\", \"Vendredi\", \"Samedi\", \"Dimanche\"]\n",
    "jours = [jours_semaine[datetime.strptime(day[2:], '%y/%m/%d').weekday()] for day in days]"
   ]
  },
  {
   "cell_type": "code",
   "execution_count": 48,
   "id": "daae8bd4",
   "metadata": {},
   "outputs": [],
   "source": [
    "file = open(r\"./Data/FDAXH22-matinal.txt\", \"w+\")\n",
    "file.write(\"Date,Jour,Open Matinal,High Matinal,Low Matinal,Last Matinal\\n\")\n",
    "for i in range(len(days)):\n",
    "    line = days[i] + \",\" + str(jours[i]) + \",\" + str(daily_open[i]) + \",\" + str(opening_spread_max[i]) + \",\" + str(opening_spread_min[i]) + \",\" + str(daily_morning_last[i]) +\"\\n\"\n",
    "    file.write(line)\n",
    "    \n",
    "file.close()"
   ]
  },
  {
   "cell_type": "code",
   "execution_count": null,
   "id": "connected-speed",
   "metadata": {},
   "outputs": [],
   "source": []
  }
 ],
 "metadata": {
  "kernelspec": {
   "display_name": "Python 3 (ipykernel)",
   "language": "python",
   "name": "python3"
  },
  "language_info": {
   "codemirror_mode": {
    "name": "ipython",
    "version": 3
   },
   "file_extension": ".py",
   "mimetype": "text/x-python",
   "name": "python",
   "nbconvert_exporter": "python",
   "pygments_lexer": "ipython3",
   "version": "3.9.0"
  }
 },
 "nbformat": 4,
 "nbformat_minor": 5
}
