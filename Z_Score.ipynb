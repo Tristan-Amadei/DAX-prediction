{
 "cells": [
  {
   "cell_type": "code",
   "execution_count": 20,
   "id": "a49de74e",
   "metadata": {},
   "outputs": [],
   "source": [
    "%matplotlib inline\n",
    "import numpy as np\n",
    "import matplotlib\n",
    "import matplotlib.pyplot as plt\n",
    "import time\n",
    "import pandas as pd\n",
    "import plotly.graph_objects as go\n",
    "import warnings\n",
    "warnings.filterwarnings(\"ignore\")\n",
    "from matplotlib.ticker import PercentFormatter\n",
    "import seaborn as sns"
   ]
  },
  {
   "cell_type": "markdown",
   "id": "1d1ac190",
   "metadata": {},
   "source": [
    "# ZScore Spread"
   ]
  },
  {
   "cell_type": "markdown",
   "id": "1513900e",
   "metadata": {},
   "source": [
    "## Chercher les coefficients optimaux"
   ]
  },
  {
   "cell_type": "code",
   "execution_count": 21,
   "id": "6fca7573",
   "metadata": {},
   "outputs": [],
   "source": [
    "def moyenne_mobile(k,n, liste, profondeur):\n",
    "    if k<profondeur:\n",
    "        sum_= 0\n",
    "        for i in range(k+1):\n",
    "            sum_ += liste[i]**n\n",
    "        return sum_/(k+1)\n",
    "    else:\n",
    "        sum_ = 0\n",
    "        for i in range(k, k-profondeur, -1):\n",
    "            sum_ += liste[i]**n\n",
    "        return sum_/profondeur\n",
    "    \n",
    "def variance_mobile(k, liste, moyenneMob, profondeur):\n",
    "    return moyenne_mobile(k,2, liste, profondeur)-(moyenneMob[k])**2"
   ]
  },
  {
   "cell_type": "code",
   "execution_count": 22,
   "id": "4b34c65a",
   "metadata": {},
   "outputs": [],
   "source": [
    "def modalite(df, k, a1, moy, ecart):\n",
    "    if df.iloc[k].Spread < moy[k] - a1*ecart[k]:\n",
    "        return -1\n",
    "    if df.iloc[k].Spread > moy[k] + a1*ecart[k]:\n",
    "        return 1\n",
    "    return 0"
   ]
  },
  {
   "cell_type": "code",
   "execution_count": 23,
   "id": "d9a91bca",
   "metadata": {},
   "outputs": [],
   "source": [
    "def modalite_5classes(df, k, a1, a2, moy, ecart):\n",
    "    if df.iloc[k].Spread < moy[k] - a2*ecart[k]:\n",
    "        return -2\n",
    "    if df.iloc[k].Spread < moy[k] - a1*ecart[k]:\n",
    "        return -1\n",
    "    if df.iloc[k].Spread > moy[k] + a2*ecart[k]:\n",
    "        return 2\n",
    "    if df.iloc[k].Spread > moy[k] + a1*ecart[k]:\n",
    "        return 1\n",
    "    return 0"
   ]
  },
  {
   "cell_type": "code",
   "execution_count": 24,
   "id": "ad033e6c",
   "metadata": {},
   "outputs": [],
   "source": [
    "def count_modalites(df, a1, moy, ecart):\n",
    "    modalites = [modalite(df, k, a1, moy, ecart) for k in range(len(df))]\n",
    "    counts = [modalites.count(i)/len(df) for i in range(-1, 2)]\n",
    "    return counts"
   ]
  },
  {
   "cell_type": "code",
   "execution_count": 25,
   "id": "66f35a80",
   "metadata": {},
   "outputs": [],
   "source": [
    "def count_modalites_5classes(df, a1, a2, moy, ecart):\n",
    "    modalites = [modalite_5classes(df, k, a1, a2, moy, ecart) for k in range(len(df))]\n",
    "    counts = [modalites.count(i)/len(df) for i in range(-2, 3)]\n",
    "    return counts"
   ]
  },
  {
   "cell_type": "code",
   "execution_count": 26,
   "id": "0fcc6b1d",
   "metadata": {},
   "outputs": [],
   "source": [
    "max_a1 = 1\n",
    "max_a2 = 2"
   ]
  },
  {
   "cell_type": "code",
   "execution_count": 27,
   "id": "01a2cfa3",
   "metadata": {},
   "outputs": [],
   "source": [
    "def max_coeff_a1(df, moy, ecart):\n",
    "    opt_a1 = 0\n",
    "    minDistance = 1\n",
    "    for a1 in np.arange(0, max_a1, 0.01):\n",
    "        counts = count_modalites(df, a1, moy, ecart)\n",
    "        if abs(counts[1] - 0.50) <= minDistance:\n",
    "            minDistance = abs(counts[1] - 0.50)\n",
    "            opt_a1 = a1\n",
    "            #print(\"minDistance \" + str(minDistance) + \", opt_a1 \" + str(opt_a1) + \" opt_a2 \" + str(opt_a2))\n",
    "    return opt_a1"
   ]
  },
  {
   "cell_type": "code",
   "execution_count": 28,
   "id": "f198ef74",
   "metadata": {},
   "outputs": [],
   "source": [
    "def max_coeff_a2(df, moy, ecart, a1):\n",
    "    opt_a2 = 0\n",
    "    minDistance = 2\n",
    "    for a2 in np.arange(a1+0.01, max_a2, 0.01):\n",
    "        counts = count_modalites_5classes(df, a1, a2, moy, ecart)\n",
    "        if abs(counts[3] - 0.15) <= minDistance:\n",
    "            minDistance = abs(counts[3] - 0.15)\n",
    "            opt_a2 = a2\n",
    "    return opt_a2"
   ]
  },
  {
   "cell_type": "code",
   "execution_count": 29,
   "id": "f5d8ba00",
   "metadata": {},
   "outputs": [],
   "source": [
    "def opt_coeff(df, moy, ecart):\n",
    "    opt_a1 = max_coeff_a1(df, moy, ecart)\n",
    "    opt_a2 = max_coeff_a2(df, moy, ecart, opt_a1)\n",
    "    return opt_a1, opt_a2"
   ]
  },
  {
   "cell_type": "markdown",
   "id": "2e19c1a1",
   "metadata": {},
   "source": [
    "## Data journalière"
   ]
  },
  {
   "cell_type": "code",
   "execution_count": 30,
   "id": "825a5bc8",
   "metadata": {},
   "outputs": [],
   "source": [
    "dataFrame_daily = pd.read_table(r\"./Data/DailyData_VolumeProfile.csv\", sep = \";\", engine = 'python')\n",
    "dataFrame_daily = dataFrame_daily.rename(columns={\"spread\" : \"Spread\"})"
   ]
  },
  {
   "cell_type": "code",
   "execution_count": 31,
   "id": "32224936",
   "metadata": {},
   "outputs": [],
   "source": [
    "depth = 14"
   ]
  },
  {
   "cell_type": "code",
   "execution_count": 32,
   "id": "e1ad5587",
   "metadata": {},
   "outputs": [],
   "source": [
    "moyenneMob_daily = [moyenne_mobile(k, 1, list(dataFrame_daily.Spread), depth) for k in range(len(dataFrame_daily))]"
   ]
  },
  {
   "cell_type": "code",
   "execution_count": 33,
   "id": "54604d37",
   "metadata": {},
   "outputs": [],
   "source": [
    "ecartType_daily = [(variance_mobile(k, list(dataFrame_daily.Spread), moyenneMob_daily, depth))**0.5 for k in range(len(dataFrame_daily))]"
   ]
  },
  {
   "cell_type": "code",
   "execution_count": 34,
   "id": "a39ecc6d",
   "metadata": {
    "scrolled": true
   },
   "outputs": [],
   "source": [
    "opt_a1_daily, opt_a2_daily = opt_coeff(dataFrame_daily, moyenneMob_daily, ecartType_daily)"
   ]
  },
  {
   "cell_type": "code",
   "execution_count": 35,
   "id": "adac70a4",
   "metadata": {},
   "outputs": [
    {
     "name": "stdout",
     "output_type": "stream",
     "text": [
      "a1 optimal journalier = 0.7000000000000001, a2 optimal journalier = 1.8200000000000012\n"
     ]
    }
   ],
   "source": [
    "print(\"a1 optimal journalier = \" + str(opt_a1_daily) + \", a2 optimal journalier = \" + str(opt_a2_daily))"
   ]
  },
  {
   "cell_type": "code",
   "execution_count": 36,
   "id": "2b8af0f0",
   "metadata": {},
   "outputs": [
    {
     "name": "stdout",
     "output_type": "stream",
     "text": [
      "0.6000857265323617%\n",
      "26.660951564509215%\n",
      "50.021431633090444%\n",
      "15.002143163309045%\n",
      "7.715387912558937%\n"
     ]
    }
   ],
   "source": [
    "modalites_opt_daily = [modalite_5classes(dataFrame_daily, k, opt_a1_daily, opt_a2_daily, moyenneMob_daily, ecartType_daily) for k in range(len(dataFrame_daily))]\n",
    "for k in range(-2, 3):\n",
    "    print(str(modalites_opt_daily.count(k)/len(dataFrame_daily)*100) + \"%\")"
   ]
  },
  {
   "cell_type": "code",
   "execution_count": 37,
   "id": "cfd8588f",
   "metadata": {},
   "outputs": [
    {
     "data": {
      "image/png": "[encoded data removed]",
      "text/plain": [
       "<Figure size 720x504 with 1 Axes>"
      ]
     },
     "metadata": {
      "needs_background": "light"
     },
     "output_type": "display_data"
    }
   ],
   "source": [
    "plt.figure(figsize=(10,7))\n",
    "labels, counts = np.unique(modalites_opt_daily, return_counts=True)\n",
    "counts = counts / len(modalites_opt_daily)\n",
    "plt.bar(labels, counts, align='center', color = 'black')\n",
    "plt.gca().set_xticks(labels)\n",
    "plt.gca().yaxis.set_major_formatter(PercentFormatter(1))\n",
    "plt.title('Zscore Spread - Journalier\\n')\n",
    "plt.ylabel('Pourcentage')\n",
    "plt.xlabel('Modalité')\n",
    "plt.show()"
   ]
  },
  {
   "cell_type": "markdown",
   "id": "d743227a",
   "metadata": {},
   "source": [
    "## Data Initial Balance"
   ]
  },
  {
   "cell_type": "code",
   "execution_count": 38,
   "id": "459976ae",
   "metadata": {},
   "outputs": [],
   "source": [
    "dataFrame_IB = pd.read_table(\"Data/dataIB.csv\", sep = \";\", engine = 'python')\n",
    "dataFrame_IB = dataFrame_IB.rename(columns={\"spread\" : \"Spread\"})"
   ]
  },
  {
   "cell_type": "code",
   "execution_count": 39,
   "id": "b2d386a5",
   "metadata": {},
   "outputs": [],
   "source": [
    "depth = 14"
   ]
  },
  {
   "cell_type": "code",
   "execution_count": 40,
   "id": "f897c3e3",
   "metadata": {},
   "outputs": [],
   "source": [
    "moyenneMob_IB = [moyenne_mobile(k, 1, list(dataFrame_IB.Spread), depth) for k in range(len(dataFrame_IB))]"
   ]
  },
  {
   "cell_type": "code",
   "execution_count": 41,
   "id": "628db292",
   "metadata": {},
   "outputs": [],
   "source": [
    "ecartType_IB = [(variance_mobile(k, list(dataFrame_IB.Spread), moyenneMob_IB, depth))**0.5 for k in range(len(dataFrame_IB))]"
   ]
  },
  {
   "cell_type": "code",
   "execution_count": 42,
   "id": "ee6b39ee",
   "metadata": {
    "scrolled": true
   },
   "outputs": [],
   "source": [
    "opt_a1_IB, opt_a2_IB = opt_coeff(dataFrame_IB, moyenneMob_IB, ecartType_IB)"
   ]
  },
  {
   "cell_type": "code",
   "execution_count": 43,
   "id": "3db0be88",
   "metadata": {},
   "outputs": [
    {
     "name": "stdout",
     "output_type": "stream",
     "text": [
      "a1 optimal Initial balance = 0.6900000000000001, a2 optimal Initial Balance = 1.8000000000000012\n"
     ]
    }
   ],
   "source": [
    "print(\"a1 optimal Initial balance = \" + str(opt_a1_IB) + \", a2 optimal Initial Balance = \" + str(opt_a2_IB))"
   ]
  },
  {
   "cell_type": "code",
   "execution_count": 44,
   "id": "641f2954",
   "metadata": {},
   "outputs": [
    {
     "name": "stdout",
     "output_type": "stream",
     "text": [
      "0.5134788189987163%\n",
      "27.086007702182286%\n",
      "49.93581514762516%\n",
      "14.976465554129225%\n",
      "7.488232777064613%\n"
     ]
    }
   ],
   "source": [
    "modalites_opt_IB = [modalite_5classes(dataFrame_IB, k, opt_a1_IB, opt_a2_IB, moyenneMob_IB, ecartType_IB) for k in range(len(dataFrame_IB))]\n",
    "for k in range(-2, 3):\n",
    "    print(str(modalites_opt_IB.count(k)/len(dataFrame_IB)*100) + \"%\")"
   ]
  },
  {
   "cell_type": "code",
   "execution_count": 45,
   "id": "6c6d183f",
   "metadata": {},
   "outputs": [
    {
     "data": {
      "image/png": "[encoded data removed]",
      "text/plain": [
       "<Figure size 720x504 with 1 Axes>"
      ]
     },
     "metadata": {
      "needs_background": "light"
     },
     "output_type": "display_data"
    }
   ],
   "source": [
    "plt.figure(figsize=(10,7))\n",
    "labels, counts = np.unique(modalites_opt_IB, return_counts=True)\n",
    "counts = counts / len(modalites_opt_IB)\n",
    "plt.bar(labels, counts, align='center', color = 'black')\n",
    "plt.gca().set_xticks(labels)\n",
    "plt.gca().yaxis.set_major_formatter(PercentFormatter(1))\n",
    "plt.title('Zscore Spread - Initial Balance\\n')\n",
    "plt.ylabel('Pourcentage')\n",
    "plt.xlabel('Modalité')\n",
    "plt.show()"
   ]
  },
  {
   "cell_type": "markdown",
   "id": "cf642159",
   "metadata": {},
   "source": [
    "## Data 5 minutes"
   ]
  },
  {
   "cell_type": "code",
   "execution_count": 73,
   "id": "4a02153b",
   "metadata": {},
   "outputs": [],
   "source": [
    "dataFrame_5min = pd.read_table(r\"./Data/FDAXM22-EUREX 5Min.csv\", sep = \";\", engine = 'python')\n",
    "for col in dataFrame_5min.columns:\n",
    "    if col[0] == \" \":\n",
    "        dataFrame_5min = dataFrame_5min.rename(columns={col : col[1:]})\n",
    "dataFrame_5min['Spread'] = dataFrame_5min.High - dataFrame_5min.Low"
   ]
  },
  {
   "cell_type": "code",
   "execution_count": 74,
   "id": "e50bc96f",
   "metadata": {},
   "outputs": [],
   "source": [
    "depth = 14"
   ]
  },
  {
   "cell_type": "code",
   "execution_count": 75,
   "id": "fe1de7de",
   "metadata": {},
   "outputs": [],
   "source": [
    "tmpDF = pd.read_table(r'moyenneMobileSpread.csv', sep = \";\", engine = 'python')\n",
    "moyenneMob_5min = tmpDF['MoyenneMobileSpread5min']\n",
    "ecartType_5min = tmpDF['EcartTypeMobileSpread5min']"
   ]
  },
  {
   "cell_type": "raw",
   "id": "cc1181e3",
   "metadata": {},
   "source": [
    "moyenneMob_5min = [moyenne_mobile(k, 1, list(dataFrame_5min.Spread), depth) for k in range(len(dataFrame_5min))]"
   ]
  },
  {
   "cell_type": "raw",
   "id": "91646f78",
   "metadata": {},
   "source": [
    "ecartType_5min = [(variance_mobile(k, list(dataFrame_5min.Spread), moyenneMob_5min, depth))**0.5 for k in range(len(dataFrame_5min))]"
   ]
  },
  {
   "cell_type": "code",
   "execution_count": 76,
   "id": "69082ca1",
   "metadata": {},
   "outputs": [],
   "source": [
    "opt_a1_5min, opt_a2_5min = opt_coeff(dataFrame_5min, moyenneMob_5min, ecartType_5min)"
   ]
  },
  {
   "cell_type": "code",
   "execution_count": 77,
   "id": "5843aafc",
   "metadata": {},
   "outputs": [
    {
     "name": "stdout",
     "output_type": "stream",
     "text": [
      "a1 optimal 5 min = 0.7000000000000001, a2 optimal 5 min = 1.990000000000001\n"
     ]
    }
   ],
   "source": [
    "print(\"a1 optimal 5 min = \" + str(opt_a1_5min) + \", a2 optimal 5 min = \" + str(opt_a2_5min))"
   ]
  },
  {
   "cell_type": "code",
   "execution_count": 78,
   "id": "196f20dd",
   "metadata": {},
   "outputs": [
    {
     "name": "stdout",
     "output_type": "stream",
     "text": [
      "0.4833565246817398%\n",
      "28.554905412128363%\n",
      "50.119323906955124%\n",
      "14.991880923579668%\n",
      "5.850533232655102%\n"
     ]
    }
   ],
   "source": [
    "modalites_opt_5min = [modalite_5classes(dataFrame_5min, k, opt_a1_5min, opt_a2_5min, moyenneMob_5min, ecartType_5min) for k in range(len(dataFrame_5min))]\n",
    "for k in range(-2, 3):\n",
    "    print(str(modalites_opt_5min.count(k)/len(dataFrame_5min)*100) + \"%\")"
   ]
  },
  {
   "cell_type": "code",
   "execution_count": 79,
   "id": "705bb0bb",
   "metadata": {},
   "outputs": [
    {
     "data": {
      "image/png": "[encoded data removed]",
      "text/plain": [
       "<Figure size 720x504 with 1 Axes>"
      ]
     },
     "metadata": {
      "needs_background": "light"
     },
     "output_type": "display_data"
    }
   ],
   "source": [
    "plt.figure(figsize=(10,7))\n",
    "labels, counts = np.unique(modalites_opt_5min, return_counts=True)\n",
    "counts = counts / len(modalites_opt_5min)\n",
    "plt.bar(labels, counts, align='center', color = 'black')\n",
    "plt.gca().set_xticks(labels)\n",
    "plt.gca().yaxis.set_major_formatter(PercentFormatter(1))\n",
    "plt.title('Zscore Spread - 5 minutes\\n')\n",
    "plt.ylabel('Pourcentage')\n",
    "plt.xlabel('Modalité')\n",
    "plt.show()"
   ]
  },
  {
   "cell_type": "markdown",
   "id": "56726226",
   "metadata": {},
   "source": [
    "# ZScore Volume"
   ]
  },
  {
   "cell_type": "code",
   "execution_count": 46,
   "id": "e8211c26",
   "metadata": {},
   "outputs": [],
   "source": [
    "def modaliteVol_3classes(df, k, a1, moy, ecart):\n",
    "    if df.iloc[k].Volume < moy[k] - a1*ecart[k]:\n",
    "        return -1\n",
    "    if df.iloc[k].Volume > moy[k] + a1*ecart[k]:\n",
    "        return 1\n",
    "    return 0"
   ]
  },
  {
   "cell_type": "code",
   "execution_count": 47,
   "id": "fd98cd47",
   "metadata": {},
   "outputs": [],
   "source": [
    "def modaliteVol_5classes(df, k, a1, a2, moy, ecart):\n",
    "    if df.iloc[k].Volume < moy[k] - a2*ecart[k]:\n",
    "        return -2\n",
    "    if df.iloc[k].Volume < moy[k] - a1*ecart[k]:\n",
    "        return -1\n",
    "    if df.iloc[k].Volume > moy[k] + a2*ecart[k]:\n",
    "        return 2\n",
    "    if df.iloc[k].Volume > moy[k] + a1*ecart[k]:\n",
    "        return 1\n",
    "    return 0"
   ]
  },
  {
   "cell_type": "code",
   "execution_count": 48,
   "id": "3cc26ccb",
   "metadata": {},
   "outputs": [],
   "source": [
    "def modaliteVol_7classes(df, k, a1, a2, a3, moy, ecart):\n",
    "    if df.iloc[k].Volume < moy[k] - a3*ecart[k]:\n",
    "        return -3\n",
    "    if df.iloc[k].Volume < moy[k] - a2*ecart[k]:\n",
    "        return -2\n",
    "    if df.iloc[k].Volume < moy[k] - a1*ecart[k]:\n",
    "        return -1\n",
    "    if df.iloc[k].Volume > moy[k] + a3*ecart[k]:\n",
    "        return 3\n",
    "    if df.iloc[k].Volume > moy[k] + a2*ecart[k]:\n",
    "        return 2\n",
    "    if df.iloc[k].Volume > moy[k] + a1*ecart[k]:\n",
    "        return 1\n",
    "    return 0"
   ]
  },
  {
   "cell_type": "code",
   "execution_count": 49,
   "id": "1d412730",
   "metadata": {},
   "outputs": [],
   "source": [
    "def count_modalites_vol_3classes(df, a1, moy, ecart):\n",
    "    modalites = [modaliteVol_3classes(df, k, a1, moy, ecart) for k in range(len(df))]\n",
    "    counts = [modalites.count(i)/len(df) for i in range(-1, 2)]\n",
    "    return counts"
   ]
  },
  {
   "cell_type": "code",
   "execution_count": 50,
   "id": "feceffba",
   "metadata": {},
   "outputs": [],
   "source": [
    "def count_modalites_vol_5classes(df, a1, a2, moy, ecart):\n",
    "    modalites = [modaliteVol_5classes(df, k, a1, a2, moy, ecart) for k in range(len(df))]\n",
    "    counts = [modalites.count(i)/len(df) for i in range(-2, 3)]\n",
    "    return counts"
   ]
  },
  {
   "cell_type": "code",
   "execution_count": 51,
   "id": "f67fe350",
   "metadata": {},
   "outputs": [],
   "source": [
    "def count_modalites_vol_7classes(df, a1, a2, a3, moy, ecart):\n",
    "    modalites = [modaliteVol_7classes(df, k, a1, a2, a3, moy, ecart) for k in range(len(df))]\n",
    "    counts = [modalites.count(i)/len(df) for i in range(-3, 4)]\n",
    "    return counts"
   ]
  },
  {
   "cell_type": "code",
   "execution_count": 52,
   "id": "215e9ca8",
   "metadata": {},
   "outputs": [],
   "source": [
    "max_a1_vol = 1\n",
    "max_a2_vol = 2\n",
    "max_a3_vol = 3"
   ]
  },
  {
   "cell_type": "code",
   "execution_count": 53,
   "id": "2cb3abfd",
   "metadata": {},
   "outputs": [],
   "source": [
    "def opt_coeff_vol_a1(df, moy, ecart):\n",
    "    opt_a1 = 0\n",
    "    minDistance = 2\n",
    "    for a1 in np.arange(0, max_a1_vol, 0.01):\n",
    "        counts = count_modalites_vol_3classes(df, a1, moy, ecart)\n",
    "        if abs(counts[1] - 0.50) <= minDistance:\n",
    "            minDistance = abs(counts[1] - 0.50)\n",
    "            opt_a1 = a1\n",
    "    return opt_a1"
   ]
  },
  {
   "cell_type": "code",
   "execution_count": 54,
   "id": "580e2294",
   "metadata": {},
   "outputs": [],
   "source": [
    "def opt_coeff_vol_a2(df, moy, ecart, a1):\n",
    "    opt_a2 = 0\n",
    "    minDistance = 2\n",
    "    for a2 in np.arange(a1+0.01, max_a2_vol, 0.01):\n",
    "        counts = count_modalites_vol_5classes(df, a1, a2, moy, ecart)\n",
    "        if abs(counts[3] - 0.15) <= minDistance:\n",
    "            minDistance = abs(counts[3] - 0.15)\n",
    "            opt_a2 = a2\n",
    "    return opt_a2"
   ]
  },
  {
   "cell_type": "code",
   "execution_count": 55,
   "id": "f60a9353",
   "metadata": {},
   "outputs": [],
   "source": [
    "def opt_coeff_vol_a3(df, moy, ecart, a1, a2):\n",
    "    opt_a3 = 0\n",
    "    minDistance = 2\n",
    "    for a3 in np.arange(a2+0.01, max_a3_vol, 0.01):\n",
    "        counts = count_modalites_vol_7classes(df, a1, a2, a3, moy, ecart)\n",
    "        if abs(counts[5] - 0.8) <= minDistance:\n",
    "            minDistance = abs(counts[5] - 0.8)\n",
    "            opt_a3 = a3\n",
    "    return opt_a3"
   ]
  },
  {
   "cell_type": "code",
   "execution_count": 56,
   "id": "393e4d39",
   "metadata": {},
   "outputs": [],
   "source": [
    "def opt_coeff_vol(df, moy, ecart):\n",
    "    opt_a1 = opt_coeff_vol_a1(df, moy, ecart)\n",
    "    print(opt_a1)\n",
    "    opt_a2 = opt_coeff_vol_a2(df, moy, ecart, opt_a1)\n",
    "    print(opt_a2)\n",
    "    opt_a3 = opt_coeff_vol_a3(df, moy, ecart, opt_a1, opt_a2)\n",
    "    \n",
    "    return opt_a1, opt_a2, opt_a3"
   ]
  },
  {
   "cell_type": "markdown",
   "id": "5b5f18e1",
   "metadata": {},
   "source": [
    "## Data Journalière"
   ]
  },
  {
   "cell_type": "code",
   "execution_count": 57,
   "id": "c4d85a1e",
   "metadata": {},
   "outputs": [],
   "source": [
    "dataFrame_daily = pd.read_table(r\"./Data/DailyData_VolumeProfile.csv\", sep = \";\", engine = 'python')\n",
    "dataFrame_daily = dataFrame_daily.rename(columns={\"spread\" : \"Spread\"})"
   ]
  },
  {
   "cell_type": "code",
   "execution_count": 58,
   "id": "81dcd443",
   "metadata": {},
   "outputs": [],
   "source": [
    "depth = 14"
   ]
  },
  {
   "cell_type": "code",
   "execution_count": 59,
   "id": "39eee149",
   "metadata": {},
   "outputs": [],
   "source": [
    "moyenneMobVol_daily = [moyenne_mobile(k, 1, list(dataFrame_daily.Volume), depth) for k in range(len(dataFrame_daily))]"
   ]
  },
  {
   "cell_type": "code",
   "execution_count": 60,
   "id": "74fe85d1",
   "metadata": {},
   "outputs": [],
   "source": [
    "ecartTypeVol_daily = [(variance_mobile(k, list(dataFrame_daily.Volume), moyenneMobVol_daily, depth))**0.5 for k in range(len(dataFrame_daily))]"
   ]
  },
  {
   "cell_type": "code",
   "execution_count": 61,
   "id": "e89a8550",
   "metadata": {},
   "outputs": [
    {
     "name": "stdout",
     "output_type": "stream",
     "text": [
      "0.73\n",
      "1.6000000000000008\n"
     ]
    }
   ],
   "source": [
    "opt_a1_vol_daily, opt_a2_vol_daily, opt_a3_vol_daily = opt_coeff_vol(dataFrame_daily, moyenneMobVol_daily, ecartTypeVol_daily)"
   ]
  },
  {
   "cell_type": "code",
   "execution_count": 62,
   "id": "3038ac09",
   "metadata": {},
   "outputs": [
    {
     "name": "stdout",
     "output_type": "stream",
     "text": [
      "a1 optimal volume journalier = 0.73\n",
      "a2 optimal volume journalier = 1.6000000000000008\n",
      "a3 optimal volume journalier = 2.990000000000002\n"
     ]
    }
   ],
   "source": [
    "print(\"a1 optimal volume journalier = \" + str(opt_a1_vol_daily))\n",
    "print(\"a2 optimal volume journalier = \" + str(opt_a2_vol_daily))\n",
    "print(\"a3 optimal volume journalier = \" + str(opt_a3_vol_daily))"
   ]
  },
  {
   "cell_type": "code",
   "execution_count": 63,
   "id": "950ef0c8",
   "metadata": {},
   "outputs": [
    {
     "name": "stdout",
     "output_type": "stream",
     "text": [
      "0.04286326618088298%\n",
      "5.486498071153021%\n",
      "20.53150450064295%\n",
      "50.23574796399486%\n",
      "15.002143163309045%\n",
      "8.401200171453064%\n",
      "0.30004286326618085%\n"
     ]
    }
   ],
   "source": [
    "modalites_opt_vol_daily = [modaliteVol_7classes(dataFrame_daily, k, opt_a1_vol_daily, opt_a2_vol_daily, opt_a3_vol_daily, moyenneMobVol_daily, ecartTypeVol_daily) for k in range(len(dataFrame_daily))]\n",
    "for k in range(-3, 4):\n",
    "    print(str(modalites_opt_vol_daily.count(k)/len(dataFrame_daily)*100) + \"%\")"
   ]
  },
  {
   "cell_type": "code",
   "execution_count": 64,
   "id": "a241b758",
   "metadata": {},
   "outputs": [
    {
     "data": {
      "image/png": "[encoded data removed]",
      "text/plain": [
       "<Figure size 720x504 with 1 Axes>"
      ]
     },
     "metadata": {
      "needs_background": "light"
     },
     "output_type": "display_data"
    }
   ],
   "source": [
    "plt.figure(figsize=(10,7))\n",
    "labels, counts = np.unique(modalites_opt_vol_daily, return_counts=True)\n",
    "counts = counts / len(modalites_opt_vol_daily)\n",
    "plt.bar(labels, counts, align='center', color = 'black')\n",
    "plt.gca().set_xticks(labels)\n",
    "plt.gca().yaxis.set_major_formatter(PercentFormatter(1))\n",
    "plt.title('Zscore Volume - Journalier\\n')\n",
    "plt.ylabel('Pourcentage')\n",
    "plt.xlabel('Modalité')\n",
    "plt.show()"
   ]
  },
  {
   "cell_type": "markdown",
   "id": "e742484e",
   "metadata": {},
   "source": [
    "## Data Initial Balance"
   ]
  },
  {
   "cell_type": "code",
   "execution_count": 65,
   "id": "02991154",
   "metadata": {},
   "outputs": [],
   "source": [
    "dataFrame_IB = pd.read_table(\"Data/dataIB.csv\", sep = \";\", engine = 'python')\n",
    "dataFrame_IB = dataFrame_IB.rename(columns={\"spread\" : \"Spread\"})"
   ]
  },
  {
   "cell_type": "code",
   "execution_count": 66,
   "id": "feed1e24",
   "metadata": {},
   "outputs": [],
   "source": [
    "depth = 14"
   ]
  },
  {
   "cell_type": "code",
   "execution_count": 67,
   "id": "cada8072",
   "metadata": {},
   "outputs": [],
   "source": [
    "moyenneMobVol_IB = [moyenne_mobile(k, 1, list(dataFrame_IB.Volume), depth) for k in range(len(dataFrame_IB))]"
   ]
  },
  {
   "cell_type": "code",
   "execution_count": 68,
   "id": "24edc130",
   "metadata": {},
   "outputs": [],
   "source": [
    "ecartTypeVol_IB = [(variance_mobile(k, list(dataFrame_IB.Volume), moyenneMobVol_IB, depth))**0.5 for k in range(len(dataFrame_IB))]"
   ]
  },
  {
   "cell_type": "code",
   "execution_count": 69,
   "id": "5a3f6d6b",
   "metadata": {},
   "outputs": [
    {
     "name": "stdout",
     "output_type": "stream",
     "text": [
      "0.65\n",
      "1.6900000000000008\n"
     ]
    }
   ],
   "source": [
    "opt_a1_vol_IB, opt_a2_vol_IB, opt_a3_vol_IB = opt_coeff_vol(dataFrame_IB, moyenneMobVol_IB, ecartTypeVol_IB)"
   ]
  },
  {
   "cell_type": "code",
   "execution_count": 70,
   "id": "025f038a",
   "metadata": {},
   "outputs": [
    {
     "name": "stdout",
     "output_type": "stream",
     "text": [
      "a1 optimal volume Initial Balance = 0.65\n",
      "a2 optimal volume Initial Balance = 1.6900000000000008\n",
      "a3 optimal volume Initial Balance = 2.990000000000002\n"
     ]
    }
   ],
   "source": [
    "print(\"a1 optimal volume Initial Balance = \" + str(opt_a1_vol_IB))\n",
    "print(\"a2 optimal volume Initial Balance = \" + str(opt_a2_vol_IB))\n",
    "print(\"a3 optimal volume Initial Balance = \" + str(opt_a3_vol_IB))"
   ]
  },
  {
   "cell_type": "code",
   "execution_count": 71,
   "id": "0b63dfa7",
   "metadata": {},
   "outputs": [
    {
     "name": "stdout",
     "output_type": "stream",
     "text": [
      "0.0%\n",
      "2.139495079161318%\n",
      "25.54557124518614%\n",
      "49.63628583654258%\n",
      "15.019255455712452%\n",
      "6.418485237483954%\n",
      "1.2409071459135643%\n"
     ]
    }
   ],
   "source": [
    "modalites_opt_vol_IB = [modaliteVol_7classes(dataFrame_IB, k, opt_a1_vol_IB, opt_a2_vol_IB, opt_a3_vol_IB, moyenneMobVol_IB, ecartTypeVol_IB) for k in range(len(dataFrame_IB))]\n",
    "for k in range(-3, 4):\n",
    "    print(str(modalites_opt_vol_IB.count(k)/len(dataFrame_IB)*100) + \"%\")"
   ]
  },
  {
   "cell_type": "code",
   "execution_count": 72,
   "id": "756cc1b4",
   "metadata": {},
   "outputs": [
    {
     "data": {
      "image/png": "[encoded data removed]",
      "text/plain": [
       "<Figure size 720x504 with 1 Axes>"
      ]
     },
     "metadata": {
      "needs_background": "light"
     },
     "output_type": "display_data"
    }
   ],
   "source": [
    "plt.figure(figsize=(10,7))\n",
    "labels, counts = np.unique(modalites_opt_vol_IB, return_counts=True)\n",
    "counts = counts / len(modalites_opt_vol_IB)\n",
    "plt.bar(labels, counts, align='center', color = 'black')\n",
    "plt.gca().set_xticks(labels)\n",
    "plt.gca().yaxis.set_major_formatter(PercentFormatter(1))\n",
    "plt.title('Zscore Volume - Initial Balance\\n')\n",
    "plt.ylabel('Pourcentage')\n",
    "plt.xlabel('Modalité')\n",
    "plt.show()"
   ]
  },
  {
   "cell_type": "markdown",
   "id": "60fc141e",
   "metadata": {},
   "source": [
    "## Data 5 minutes"
   ]
  },
  {
   "cell_type": "code",
   "execution_count": 80,
   "id": "a607ba43",
   "metadata": {},
   "outputs": [],
   "source": [
    "dataFrame_5min = pd.read_table(r\"./Data/FDAXM22-EUREX 5Min.csv\", sep = \";\", engine = 'python')\n",
    "for col in dataFrame_5min.columns:\n",
    "    if col[0] == \" \":\n",
    "        dataFrame_5min = dataFrame_5min.rename(columns={col : col[1:]})\n",
    "dataFrame_5min['Spread'] = dataFrame_5min.High - dataFrame_5min.Low"
   ]
  },
  {
   "cell_type": "code",
   "execution_count": 81,
   "id": "b2a11645",
   "metadata": {},
   "outputs": [],
   "source": [
    "depth = 14"
   ]
  },
  {
   "cell_type": "code",
   "execution_count": 82,
   "id": "79687b0a",
   "metadata": {},
   "outputs": [],
   "source": [
    "tmpDF = pd.read_table(r'mobileVolume.csv', sep = \";\", engine = 'python')\n",
    "moyenneMobVol_5min = tmpDF['MoyenneMobileVolume5min']\n",
    "ecartTypeVol_5min = tmpDF['EcartTypeMobileVolume5min']"
   ]
  },
  {
   "cell_type": "raw",
   "id": "6a7816c4",
   "metadata": {},
   "source": [
    "moyenneMobVol_5min = [moyenne_mobile(k, 1, list(dataFrame_5min.Volume), depth) for k in range(len(dataFrame_5min))]"
   ]
  },
  {
   "cell_type": "raw",
   "id": "5ff4ad4b",
   "metadata": {},
   "source": [
    "ecartTypeVol_5min = [(variance_mobile(k, list(dataFrame_5min.Volume), moyenneMobVol_5min, depth))**0.5 for k in range(len(dataFrame_5min))]"
   ]
  },
  {
   "cell_type": "code",
   "execution_count": 83,
   "id": "43496f38",
   "metadata": {},
   "outputs": [],
   "source": [
    "opt_a1_vol_5min, opt_a2_vol_5min, opt_a3_vol_5min = opt_coeff_vol(dataFrame_5min, moyenneMobVol_5min, ecartTypeVol_5min)"
   ]
  },
  {
   "cell_type": "code",
   "execution_count": 84,
   "id": "0563cb4f",
   "metadata": {},
   "outputs": [
    {
     "name": "stdout",
     "output_type": "stream",
     "text": [
      "a1 optimal volume 5 minutes = 0.73\n",
      "a2 optimal volume 5 minutes = 1.99\n",
      "a3 optimal volume 5 minutes = 2.99\n"
     ]
    }
   ],
   "source": [
    "print(\"a1 optimal volume 5 minutes = \" + str(opt_a1_vol_5min))\n",
    "print(\"a2 optimal volume 5 minutes = \" + str(opt_a2_vol_5min))\n",
    "print(\"a3 optimal volume 5 minutes = \" + str(opt_a3_vol_5min))"
   ]
  },
  {
   "cell_type": "code",
   "execution_count": 85,
   "id": "61eaad49",
   "metadata": {},
   "outputs": [
    {
     "name": "stdout",
     "output_type": "stream",
     "text": [
      "0.0010101494768688397%\n",
      "0.17071526159083392%\n",
      "28.145794873996476%\n",
      "50.22690482624166%\n",
      "13.922385164944783%\n",
      "4.488599200466689%\n",
      "3.0445905232826824%\n"
     ]
    }
   ],
   "source": [
    "modalites_opt_vol_5min = [modaliteVol_7classes(dataFrame_5min, k, opt_a1_vol_5min, opt_a2_vol_5min, opt_a3_vol_5min, moyenneMobVol_5min, ecartTypeVol_5min) for k in range(len(dataFrame_5min))]\n",
    "for k in range(-3, 4):\n",
    "    print(str(modalites_opt_vol_5min.count(k)/len(dataFrame_5min)*100) + \"%\")"
   ]
  },
  {
   "cell_type": "code",
   "execution_count": 86,
   "id": "d79a5c8d",
   "metadata": {},
   "outputs": [
    {
     "data": {
      "image/png": "[encoded data removed]",
      "text/plain": [
       "<Figure size 720x504 with 1 Axes>"
      ]
     },
     "metadata": {
      "needs_background": "light"
     },
     "output_type": "display_data"
    }
   ],
   "source": [
    "plt.figure(figsize=(10,7))\n",
    "labels, counts = np.unique(modalites_opt_vol_5min, return_counts=True)\n",
    "counts = counts / len(modalites_opt_vol_5min)\n",
    "plt.bar(labels, counts, align='center', color = 'black')\n",
    "plt.gca().set_xticks(labels)\n",
    "plt.gca().yaxis.set_major_formatter(PercentFormatter(1))\n",
    "plt.title('Zscore Volume - 5 minutes\\n')\n",
    "plt.ylabel('Pourcentage')\n",
    "plt.xlabel('Modalité')\n",
    "plt.show()"
   ]
  },
  {
   "cell_type": "markdown",
   "id": "c24e8a28",
   "metadata": {},
   "source": [
    "## Enlever les jours sans IB"
   ]
  },
  {
   "cell_type": "code",
   "execution_count": 87,
   "id": "40332cb8",
   "metadata": {},
   "outputs": [
    {
     "name": "stdout",
     "output_type": "stream",
     "text": [
      "22/04/2013\n",
      "17/02/2015\n",
      "20/07/2015\n",
      "16/03/2018\n"
     ]
    }
   ],
   "source": [
    "indices_jours_a_enlever = []\n",
    "for i in range(len(dataFrame_IB)):\n",
    "    date = dataFrame_IB.iloc[i].Date\n",
    "    if len(dataFrame_daily.loc[dataFrame_daily.Date == date]) == 0:\n",
    "        print(date)\n",
    "        indices_jours_a_enlever.append(i)"
   ]
  },
  {
   "cell_type": "code",
   "execution_count": 88,
   "id": "b90750ea",
   "metadata": {},
   "outputs": [],
   "source": [
    "if len(modalites_opt_IB) > len(modalites_opt_daily):\n",
    "    for index in indices_jours_a_enlever:\n",
    "        modalites_opt_IB.pop(index)\n",
    "        \n",
    "if len(modalites_opt_vol_IB) > len(modalites_opt_vol_daily):\n",
    "    for index in indices_jours_a_enlever:\n",
    "        modalites_opt_vol_IB.pop(index)"
   ]
  },
  {
   "cell_type": "code",
   "execution_count": 89,
   "id": "6edeb7be",
   "metadata": {},
   "outputs": [
    {
     "name": "stdout",
     "output_type": "stream",
     "text": [
      "2333\n",
      "2333\n",
      "395981\n",
      "2333\n",
      "2333\n",
      "395981\n"
     ]
    }
   ],
   "source": [
    "print(len(modalites_opt_daily))\n",
    "print(len(modalites_opt_IB))\n",
    "print(len(modalites_opt_5min))\n",
    "print(len(modalites_opt_vol_daily))\n",
    "print(len(modalites_opt_vol_IB))\n",
    "print(len(modalites_opt_vol_5min))"
   ]
  },
  {
   "cell_type": "markdown",
   "id": "213d627c",
   "metadata": {},
   "source": [
    "## Stocker les résultats"
   ]
  },
  {
   "cell_type": "code",
   "execution_count": 90,
   "id": "1ca7e3d8",
   "metadata": {},
   "outputs": [],
   "source": [
    "df_resultats = pd.DataFrame()"
   ]
  },
  {
   "cell_type": "code",
   "execution_count": 91,
   "id": "a9cec0e1",
   "metadata": {},
   "outputs": [],
   "source": [
    "df_resultats['ZScore Spread Daily'] = pd.Series(modalites_opt_daily)\n",
    "df_resultats['ZScore Spread IB'] = pd.Series(modalites_opt_IB)\n",
    "\n",
    "df_resultats['ZScore Volume Daily'] = pd.Series(modalites_opt_vol_daily)\n",
    "df_resultats['ZScore Volume IB'] = pd.Series(modalites_opt_vol_IB)"
   ]
  },
  {
   "cell_type": "code",
   "execution_count": 93,
   "id": "ae76c2fb",
   "metadata": {},
   "outputs": [],
   "source": [
    "df_resultats.to_csv(r'ZScoresCalcules.csv', sep = ';', index=False)"
   ]
  },
  {
   "cell_type": "code",
   "execution_count": 94,
   "id": "8e4fc033",
   "metadata": {},
   "outputs": [],
   "source": [
    "df_resultats_5min = pd.DataFrame()"
   ]
  },
  {
   "cell_type": "code",
   "execution_count": 95,
   "id": "c3f307e1",
   "metadata": {},
   "outputs": [],
   "source": [
    "df_resultats_5min['ZScore Spread 5min'] = pd.Series(modalites_opt_5min)\n",
    "df_resultats_5min['ZScore Volume 5min'] = pd.Series(modalites_opt_vol_5min)"
   ]
  },
  {
   "cell_type": "code",
   "execution_count": 96,
   "id": "0a244a35",
   "metadata": {},
   "outputs": [],
   "source": [
    "df_resultats_5min.to_csv(r'ZScoresCalcules5min.csv', sep = ';', index=False)"
   ]
  }
 ],
 "metadata": {
  "kernelspec": {
   "display_name": "Python 3 (ipykernel)",
   "language": "python",
   "name": "python3"
  },
  "language_info": {
   "codemirror_mode": {
    "name": "ipython",
    "version": 3
   },
   "file_extension": ".py",
   "mimetype": "text/x-python",
   "name": "python",
   "nbconvert_exporter": "python",
   "pygments_lexer": "ipython3",
   "version": "3.9.0"
  }
 },
 "nbformat": 4,
 "nbformat_minor": 5
}
