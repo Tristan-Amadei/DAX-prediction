{
 "cells": [
  {
   "cell_type": "code",
   "execution_count": 1,
   "id": "intensive-texas",
   "metadata": {},
   "outputs": [],
   "source": [
    "%matplotlib inline\n",
    "import numpy as np\n",
    "import matplotlib\n",
    "import matplotlib.pyplot as plt\n",
    "import time\n",
    "import pandas as pd\n",
    "import plotly.graph_objects as go\n",
    "import tensorflow as tf"
   ]
  },
  {
   "cell_type": "code",
   "execution_count": 2,
   "id": "welcome-trial",
   "metadata": {},
   "outputs": [],
   "source": [
    "dataFrame = pd.read_table(r\"../Data/dataNormalisee(14).csv\", sep = \";\", engine = 'python')"
   ]
  },
  {
   "cell_type": "code",
   "execution_count": 3,
   "id": "c2117a56",
   "metadata": {},
   "outputs": [],
   "source": [
    "dataFrame_daily = pd.read_table(r\"../Data/DailyData_VolumeProfile.csv\", sep = \";\", engine = 'python')"
   ]
  },
  {
   "cell_type": "code",
   "execution_count": 6,
   "id": "6cb56841",
   "metadata": {},
   "outputs": [],
   "source": [
    "days = list(dataFrame_daily.Date)\n",
    "daily_open = list(dataFrame_daily['Open'])"
   ]
  },
  {
   "cell_type": "code",
   "execution_count": 16,
   "id": "1e00a5f0",
   "metadata": {
    "scrolled": true
   },
   "outputs": [],
   "source": [
    "# pour chaque jour, on fait une requete pour selectionner la ligne ou l'heure la derniere de la journee\n",
    "# permet de recuperer la liste des fermtures journalieres\n",
    "\n",
    "daily_last = []\n",
    "for i in range(len(days)): \n",
    "    df_last_minute = dataFrame.loc[(dataFrame['Time'] == ' 09:00:00.0') & (dataFrame.Date == days[i])]\n",
    "    if len(df_last_minute) == 0:\n",
    "        df_last_minute = dataFrame.loc[(dataFrame['Time'] == ' 09:35:00.0') & (dataFrame.Date == days[i])]\n",
    "    if len(df_last_minute) == 0:\n",
    "        df_last_minute = dataFrame.loc[(dataFrame['Time'] == ' 13:45:00.0') & (dataFrame.Date == days[i])]\n",
    "\n",
    "    cur_last = list(df_last_minute['Last'])\n",
    "    if len(cur_last) > 0:\n",
    "        daily_last.append(int(cur_last[0]))"
   ]
  },
  {
   "cell_type": "code",
   "execution_count": 17,
   "id": "5b2b0d74",
   "metadata": {},
   "outputs": [
    {
     "data": {
      "text/plain": [
       "2249"
      ]
     },
     "execution_count": 17,
     "metadata": {},
     "output_type": "execute_result"
    }
   ],
   "source": [
    "len(daily_last)"
   ]
  },
  {
   "cell_type": "code",
   "execution_count": null,
   "id": "disturbed-italic",
   "metadata": {
    "scrolled": true
   },
   "outputs": [],
   "source": [
    "# récupère les high (max), low (min), voulme bid & asc, number of trades (sum)\n",
    "# on fait des requetes pour recuperer toutes les donnees d'une journee\n",
    "# cela permet de calculer le high de la journee, le low de la journee et le volume total de la journee\n",
    "# on repete cela pour tous les jours\n",
    "# relativement long en temps d'exécution mais permet de s'assurer de prendre toutes les entrees d'une journee\n",
    "# par ex, si une journee se termine a 22h05 et non 22h, cette technique permet de s'assurer de bien prendre toutes les tranches\n",
    "heures = [' 08:00:00.0', ' 08:05:00.0', ' 08:10:00.0', ' 08:15:00.0', ' 08:20:00.0', ' 08:25:00.0', ' 08:30:00.0', ' 08:35:00.0', ' 08:40:00.0', ' 08:45:00.0', ' 08:50:00.0', ' 08:55:00.0', ' 09:00:00.0']\n",
    "daily_high = []\n",
    "daily_low = []\n",
    "daily_volume = []\n",
    "daily_nb_trades = []\n",
    "daily_bidVolume =[]\n",
    "daily_askVolume =[]\n",
    "daily_jour=[]\n",
    "\n",
    "for day in days:\n",
    "    df_day = dataFrame.loc[(dataFrame.Date == day) & (dataFrame[' Time'].isin(heures))]\n",
    "    if len(df_day) == 0: #cette journee commence apres l'IB\n",
    "        df_jour_i = dataFrame_daily.loc[dataFrame_daily.Date == day]\n",
    "        daily_volume.append(float(df_jour_i['Volume']))\n",
    "        daily_high.append(float(df_jour_i['High']))\n",
    "        daily_low.append(float(df_jour_i['Low']))\n",
    "        daily_bidVolume.append(float(df_jour_i['Bid Volume']))\n",
    "        daily_askVolume.append(float(df_jour_i['Ask Volume']))\n",
    "    else:\n",
    "        volume_journalier = np.sum(list(df_day[' Volume']))\n",
    "        daily_volume.append(volume_journalier)\n",
    "\n",
    "        high_journalier = max(list(df_day[' High']))\n",
    "        daily_high.append(high_journalier)\n",
    "\n",
    "        low_journalier = min(list(df_day[' Low']))\n",
    "        daily_low.append(low_journalier)\n",
    "\n",
    "        bid_volume_journalier = np.sum(list(df_day[' Bid Volume']))\n",
    "        daily_bidVolume.append(bid_volume_journalier)\n",
    "\n",
    "        ask_volume_journalier = np.sum(list(df_day[' Ask Volume']))\n",
    "        daily_askVolume.append(ask_volume_journalier)"
   ]
  },
  {
   "cell_type": "code",
   "execution_count": null,
   "id": "sixth-compiler",
   "metadata": {},
   "outputs": [],
   "source": [
    "daily_spread = [float(daily_high[i]-daily_low[i]) for i in range(len(daily_high))]\n",
    "daily_delta = [float(daily_askVolume[i]) - float(daily_bidVolume[i]) for i in range(len(daily_askVolume))]\n",
    "\n",
    "daily_cumulativeDelta = [daily_delta[0]]\n",
    "for i in range(1, len(daily_delta)):\n",
    "    nouvelle_valeur = daily_cumulativeDelta[-1] + daily_delta[i]\n",
    "    daily_cumulativeDelta.append(nouvelle_valeur)"
   ]
  },
  {
   "cell_type": "code",
   "execution_count": null,
   "id": "supposed-grace",
   "metadata": {},
   "outputs": [],
   "source": [
    "def moyenne_mobile(k, liste):\n",
    "    if k<23:\n",
    "        sum_= 0\n",
    "        for i in range(k+1):\n",
    "            sum_ += liste[i]\n",
    "        return sum_/(k+1)\n",
    "    else:\n",
    "        sum_ = 0\n",
    "        for i in range(k, k-23, -1):\n",
    "            sum_ += liste[i]\n",
    "        return sum_/23"
   ]
  },
  {
   "cell_type": "code",
   "execution_count": null,
   "id": "constitutional-sculpture",
   "metadata": {},
   "outputs": [],
   "source": [
    "daily_moy_mobile = [moyenne_mobile(k, daily_last) for k in range(len(daily_last))]"
   ]
  },
  {
   "cell_type": "code",
   "execution_count": null,
   "id": "1a95f5c2",
   "metadata": {},
   "outputs": [],
   "source": [
    "weekdays = dataFrame_daily.Jour"
   ]
  },
  {
   "cell_type": "code",
   "execution_count": null,
   "id": "rocky-benjamin",
   "metadata": {},
   "outputs": [],
   "source": [
    "dataFrame_daily = pd.DataFrame()\n",
    "dataFrame_daily.insert(loc = 0, column='Date', value=pd.Series(days))\n",
    "dataFrame_daily.insert(loc = 1, column='Jour',  value=pd.Series(weekdays))\n",
    "dataFrame_daily.insert(loc = 2, column='Open', value=pd.Series(daily_open))\n",
    "dataFrame_daily.insert(loc = 3, column='High', value=pd.Series(daily_high))\n",
    "dataFrame_daily.insert(loc = 4, column='Low', value=pd.Series(daily_low))\n",
    "dataFrame_daily.insert(loc = 5, column='Last', value=pd.Series(daily_last))\n",
    "dataFrame_daily.insert(loc = 6, column='Volume', value=pd.Series(daily_volume))\n",
    "dataFrame_daily.insert(loc = 7, column='BidVolume', value=pd.Series(daily_bidVolume))\n",
    "dataFrame_daily.insert(loc = 8, column='AskVolume', value=pd.Series(daily_askVolume))\n",
    "dataFrame_daily.insert(loc = 9, column='Spread', value=pd.Series(daily_spread))\n",
    "dataFrame_daily.insert(loc = 10, column='Delta', value=pd.Series(daily_delta))\n",
    "dataFrame_daily.insert(loc = 11, column='CumulativeDelta', value=pd.Series(daily_cumulativeDelta))\n",
    "dataFrame_daily.insert(loc = 12, column='MoyennneMobile', value=pd.Series(daily_moy_mobile))"
   ]
  },
  {
   "cell_type": "code",
   "execution_count": null,
   "id": "disabled-house",
   "metadata": {},
   "outputs": [],
   "source": [
    "dataFrame_daily[76:81]"
   ]
  },
  {
   "cell_type": "code",
   "execution_count": 39,
   "id": "partial-deputy",
   "metadata": {},
   "outputs": [],
   "source": [
    "dataFrame_daily.to_csv('../Data/dataIB.csv', sep = ';', index=False)"
   ]
  },
  {
   "cell_type": "code",
   "execution_count": null,
   "id": "compact-texas",
   "metadata": {},
   "outputs": [],
   "source": []
  },
  {
   "cell_type": "code",
   "execution_count": null,
   "id": "close-verse",
   "metadata": {},
   "outputs": [],
   "source": []
  },
  {
   "cell_type": "code",
   "execution_count": null,
   "id": "happy-loading",
   "metadata": {},
   "outputs": [],
   "source": []
  }
 ],
 "metadata": {
  "kernelspec": {
   "display_name": "Python 3 (ipykernel)",
   "language": "python",
   "name": "python3"
  },
  "language_info": {
   "codemirror_mode": {
    "name": "ipython",
    "version": 3
   },
   "file_extension": ".py",
   "mimetype": "text/x-python",
   "name": "python",
   "nbconvert_exporter": "python",
   "pygments_lexer": "ipython3",
   "version": "3.9.0"
  }
 },
 "nbformat": 4,
 "nbformat_minor": 5
}
